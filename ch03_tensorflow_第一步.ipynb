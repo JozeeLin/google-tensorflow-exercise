{
  "nbformat": 4,
  "nbformat_minor": 0,
  "metadata": {
    "colab": {
      "name": "ch03-tensorflow 第一步.ipynb",
      "version": "0.3.2",
      "provenance": []
    },
    "kernelspec": {
      "name": "python3",
      "display_name": "Python 3"
    }
  },
  "cells": [
    {
      "cell_type": "markdown",
      "metadata": {
        "id": "view-in-github",
        "colab_type": "text"
      },
      "source": [
        "[View in Colaboratory](https://colab.research.google.com/github/JozeeLin/google-tensorflow-exercise/blob/master/ch03_tensorflow_%E7%AC%AC%E4%B8%80%E6%AD%A5.ipynb)"
      ]
    },
    {
      "metadata": {
        "id": "MzQH2h4-IcRI",
        "colab_type": "code",
        "colab": {}
      },
      "cell_type": "code",
      "source": [
        "import tensorflow as tf\n",
        "from tensorflow.examples.tutorials.mnist import input_data"
      ],
      "execution_count": 0,
      "outputs": []
    },
    {
      "metadata": {
        "id": "2OfQtFwcIseL",
        "colab_type": "code",
        "colab": {
          "base_uri": "https://localhost:8080/",
          "height": 531
        },
        "outputId": "b02adfdb-e735-4ba5-8552-ec5eb4c63d3b"
      },
      "cell_type": "code",
      "source": [
        "#直接加载数据集\n",
        "mnist = input_data.read_data_sets(\"MNIST_data/\", one_hot=True)"
      ],
      "execution_count": 4,
      "outputs": [
        {
          "output_type": "stream",
          "text": [
            "WARNING:tensorflow:From <ipython-input-4-a839aeb82f4b>:1: read_data_sets (from tensorflow.contrib.learn.python.learn.datasets.mnist) is deprecated and will be removed in a future version.\n",
            "Instructions for updating:\n",
            "Please use alternatives such as official/mnist/dataset.py from tensorflow/models.\n",
            "WARNING:tensorflow:From /usr/local/lib/python3.6/dist-packages/tensorflow/contrib/learn/python/learn/datasets/mnist.py:260: maybe_download (from tensorflow.contrib.learn.python.learn.datasets.base) is deprecated and will be removed in a future version.\n",
            "Instructions for updating:\n",
            "Please write your own downloading logic.\n",
            "WARNING:tensorflow:From /usr/local/lib/python3.6/dist-packages/tensorflow/contrib/learn/python/learn/datasets/base.py:252: _internal_retry.<locals>.wrap.<locals>.wrapped_fn (from tensorflow.contrib.learn.python.learn.datasets.base) is deprecated and will be removed in a future version.\n",
            "Instructions for updating:\n",
            "Please use urllib or similar directly.\n",
            "Successfully downloaded train-images-idx3-ubyte.gz 9912422 bytes.\n",
            "WARNING:tensorflow:From /usr/local/lib/python3.6/dist-packages/tensorflow/contrib/learn/python/learn/datasets/mnist.py:262: extract_images (from tensorflow.contrib.learn.python.learn.datasets.mnist) is deprecated and will be removed in a future version.\n",
            "Instructions for updating:\n",
            "Please use tf.data to implement this functionality.\n",
            "Extracting MNIST_data/train-images-idx3-ubyte.gz\n",
            "Successfully downloaded train-labels-idx1-ubyte.gz 28881 bytes.\n",
            "WARNING:tensorflow:From /usr/local/lib/python3.6/dist-packages/tensorflow/contrib/learn/python/learn/datasets/mnist.py:267: extract_labels (from tensorflow.contrib.learn.python.learn.datasets.mnist) is deprecated and will be removed in a future version.\n",
            "Instructions for updating:\n",
            "Please use tf.data to implement this functionality.\n",
            "Extracting MNIST_data/train-labels-idx1-ubyte.gz\n",
            "WARNING:tensorflow:From /usr/local/lib/python3.6/dist-packages/tensorflow/contrib/learn/python/learn/datasets/mnist.py:110: dense_to_one_hot (from tensorflow.contrib.learn.python.learn.datasets.mnist) is deprecated and will be removed in a future version.\n",
            "Instructions for updating:\n",
            "Please use tf.one_hot on tensors.\n",
            "Successfully downloaded t10k-images-idx3-ubyte.gz 1648877 bytes.\n",
            "Extracting MNIST_data/t10k-images-idx3-ubyte.gz\n",
            "Successfully downloaded t10k-labels-idx1-ubyte.gz 4542 bytes.\n",
            "Extracting MNIST_data/t10k-labels-idx1-ubyte.gz\n",
            "WARNING:tensorflow:From /usr/local/lib/python3.6/dist-packages/tensorflow/contrib/learn/python/learn/datasets/mnist.py:290: DataSet.__init__ (from tensorflow.contrib.learn.python.learn.datasets.mnist) is deprecated and will be removed in a future version.\n",
            "Instructions for updating:\n",
            "Please use alternatives such as official/mnist/dataset.py from tensorflow/models.\n"
          ],
          "name": "stdout"
        }
      ]
    },
    {
      "metadata": {
        "id": "DQ69pUkBLkBh",
        "colab_type": "code",
        "colab": {
          "base_uri": "https://localhost:8080/",
          "height": 69
        },
        "outputId": "f90b7af1-334a-48ff-9cb4-9070d8f7d270"
      },
      "cell_type": "code",
      "source": [
        "#训练集55000个样本，验证集5000个样本，测试集10000个样本\n",
        "#由于图像是28像素x28像素大小的灰度图片，因此每个样本有28x28=784维特征\n",
        "print(mnist.train.images.shape, mnist.train.labels.shape)\n",
        "print(mnist.test.images.shape, mnist.test.labels.shape)\n",
        "print(mnist.validation.images.shape, mnist.validation.labels.shape)"
      ],
      "execution_count": 5,
      "outputs": [
        {
          "output_type": "stream",
          "text": [
            "(55000, 784) (55000, 10)\n",
            "(10000, 784) (10000, 10)\n",
            "(5000, 784) (5000, 10)\n"
          ],
          "name": "stdout"
        }
      ]
    },
    {
      "metadata": {
        "id": "LpRcITzZV3L3",
        "colab_type": "code",
        "colab": {}
      },
      "cell_type": "code",
      "source": [
        "#创建一个新的InteractiveSession，使用这个命令会将这个session注册为默认的session，之后的运算也默认跑在这个session里，不同session之间的数据和运算应该都是相互独立的\n",
        "sess = tf.InteractiveSession()"
      ],
      "execution_count": 0,
      "outputs": []
    },
    {
      "metadata": {
        "id": "b-amZUdSYF3l",
        "colab_type": "code",
        "colab": {}
      },
      "cell_type": "code",
      "source": [
        "#创建一个Placeholder，即输入数据的地方，Placeholder第一个参数是数据类型，第二个参数代表tensor的shape，也就是数据的尺寸。\n",
        "x = tf.placeholder(tf.float32, [None,784])"
      ],
      "execution_count": 0,
      "outputs": []
    },
    {
      "metadata": {
        "id": "HG4gs_D5Zc0H",
        "colab_type": "code",
        "colab": {}
      },
      "cell_type": "code",
      "source": [
        "#给softmax regression 模型中的weights和biases创建Variable对象\n",
        "W = tf.Variable(tf.zeros([784,10]))\n",
        "b = tf.Variable(tf.zeros([10]))"
      ],
      "execution_count": 0,
      "outputs": []
    },
    {
      "metadata": {
        "id": "fRyTQoCOZ-Gl",
        "colab_type": "code",
        "colab": {}
      },
      "cell_type": "code",
      "source": [
        "#实现softmax regression 算法\n",
        "y = tf.nn.softmax(tf.matmul(x,W)+b)"
      ],
      "execution_count": 0,
      "outputs": []
    },
    {
      "metadata": {
        "id": "_S2MsospaoUu",
        "colab_type": "text"
      },
      "cell_type": "markdown",
      "source": [
        "softmax是tf.nn下面的一个函数，而tf.nn则包含了大量神经网络的组件，tf.matmul是TensorFlow中的矩阵乘法函数。"
      ]
    },
    {
      "metadata": {
        "id": "E6in1Dddakmi",
        "colab_type": "code",
        "colab": {}
      },
      "cell_type": "code",
      "source": [
        "#定义损失函数loss function来描述模型对问题的分类精度。Loss越小，代表模型的分类结果与真实值得偏差越小，也就是说模型越精确。对多分类问题，通常使用cross-entropy作为损失函数。\n",
        "y_ = tf.placeholder(tf.float32,[None,10])\n",
        "cross_entropy = tf.reduce_mean(-tf.reduce_sum(y_*tf.log(y), reduction_indices=[1]))"
      ],
      "execution_count": 0,
      "outputs": []
    },
    {
      "metadata": {
        "id": "1-shTnxcnMKK",
        "colab_type": "code",
        "colab": {}
      },
      "cell_type": "code",
      "source": [
        "#选择优化算法\n",
        "train_step = tf.train.GradientDescentOptimizer(0.5).minimize(cross_entropy)"
      ],
      "execution_count": 0,
      "outputs": []
    },
    {
      "metadata": {
        "id": "TX43hXEUpjH0",
        "colab_type": "code",
        "colab": {}
      },
      "cell_type": "code",
      "source": [
        "#使用全局参数初始化器，并直接执行它的run方法\n",
        "tf.global_variables_initializer().run()"
      ],
      "execution_count": 0,
      "outputs": []
    },
    {
      "metadata": {
        "id": "njn1Itetp16-",
        "colab_type": "code",
        "colab": {}
      },
      "cell_type": "code",
      "source": [
        "#最后一步，迭代地执行训练操作train_step.步骤:每次都随机从训练集中抽取100条样本构成一个mini-batch,并feed给placeholder，然后调用train_step对这些样本进行训练。\n",
        "for i in range(1000):\n",
        "  batch_xs, batch_ys = mnist.train.next_batch(100)\n",
        "  train_step.run({x:batch_xs,y_:batch_ys})"
      ],
      "execution_count": 0,
      "outputs": []
    },
    {
      "metadata": {
        "id": "AOr1Cp9Yqned",
        "colab_type": "code",
        "colab": {}
      },
      "cell_type": "code",
      "source": [
        "#对模型的准确率进行验证\n",
        "correct_prediction = tf.equal(tf.argmax(y,1),tf.argmax(y_,1))"
      ],
      "execution_count": 0,
      "outputs": []
    },
    {
      "metadata": {
        "id": "0pRHE_MCrLXl",
        "colab_type": "code",
        "colab": {}
      },
      "cell_type": "code",
      "source": [
        "#我们统计全部样本预测的accuracy，这里需要先用tf.cast将之前correct_prediction输出的bool值转换为float32，再求平均\n",
        "accuracy = tf.reduce_mean(tf.cast(correct_prediction, tf.float32))"
      ],
      "execution_count": 0,
      "outputs": []
    },
    {
      "metadata": {
        "id": "iRIyv1uNrjop",
        "colab_type": "code",
        "colab": {
          "base_uri": "https://localhost:8080/",
          "height": 35
        },
        "outputId": "ca586ac5-8dcf-4796-aae9-2a7958ad6e97"
      },
      "cell_type": "code",
      "source": [
        "print(accuracy.eval({x:mnist.test.images,y_:mnist.test.labels}))"
      ],
      "execution_count": 17,
      "outputs": [
        {
          "output_type": "stream",
          "text": [
            "0.9167\n"
          ],
          "name": "stdout"
        }
      ]
    },
    {
      "metadata": {
        "id": "M0Em3TRor2FQ",
        "colab_type": "text"
      },
      "cell_type": "markdown",
      "source": [
        "通过上面的简单例子，我们使用了TensorFlow实现了一个简单的机器学习算法softmax regression，这可以算作是一个没有隐藏层的最浅的神经网络。整个流程分成4个步骤:\n",
        "1. 定义算法公式，也就是神经网络forward时的计算\n",
        "2. 定义loss，选定优化器，并指定优化器优化loss\n",
        "3. 迭代地对数据进行训练\n",
        "4. 在测试集或验证集上对准确率进行测评\n",
        "\n",
        "需要注意的是，TensorFlow和Spark类似，我们定义的各个公式其实只是计算图，在执行这行代码时，计算还没有实际发生，只有等调用run方法，并feed数据时计算才真正执行。\n",
        "\n",
        "上面我们使用softmax regression达到的准确率为92%，虽然不错，但是**还达不到实用的程度**。手写数字的识别的主要应用场景是识别银行支票，如果准确率不够高，可能会引起严重的后果。后面我们将讲解使用多层感知机和卷积网络，来解决MNIST\n",
        "手写数字识别问题的方法。"
      ]
    },
    {
      "metadata": {
        "id": "pPu4AMkWryhO",
        "colab_type": "code",
        "colab": {}
      },
      "cell_type": "code",
      "source": [
        ""
      ],
      "execution_count": 0,
      "outputs": []
    }
  ]
}