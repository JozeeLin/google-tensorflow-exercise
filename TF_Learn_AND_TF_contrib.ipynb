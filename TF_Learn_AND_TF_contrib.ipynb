{
  "nbformat": 4,
  "nbformat_minor": 0,
  "metadata": {
    "colab": {
      "name": "TF.Learn AND TF.contrib.ipynb",
      "version": "0.3.2",
      "provenance": [],
      "collapsed_sections": []
    },
    "kernelspec": {
      "name": "python3",
      "display_name": "Python 3"
    },
    "accelerator": "GPU"
  },
  "cells": [
    {
      "cell_type": "markdown",
      "metadata": {
        "id": "view-in-github",
        "colab_type": "text"
      },
      "source": [
        "[View in Colaboratory](https://colab.research.google.com/github/JozeeLin/google-tensorflow-exercise/blob/master/TF_Learn_AND_TF_contrib.ipynb)"
      ]
    },
    {
      "metadata": {
        "id": "wCC3PmKxaJ5p",
        "colab_type": "text"
      },
      "cell_type": "markdown",
      "source": [
        "## 分布式Estimator\n",
        "\n",
        "本节介绍Estimator的分布式特性、自定义模型的用法、Estimator的架构，并介绍怎样建立自己的分布式学习Estimator"
      ]
    },
    {
      "metadata": {
        "id": "gS9_obKZZ4-H",
        "colab_type": "code",
        "colab": {}
      },
      "cell_type": "code",
      "source": [
        "import tensorflow as tf\n",
        "from tensorflow.contrib import layers\n",
        "from tensorflow.contrib import learn\n",
        "\n",
        "#自定义模型，参数feature标识数据的特征，target表示数据特征每一行的目标或分类的标识\n",
        "def my_model(features,target):\n",
        "  target = tf.one_hot(target, 3,1,0) #利用tf.one_hot对targets进行独热编码\n",
        "  #用layers.stack叠加多层layers.fully_connected完全连接的深度神经网络。(进行特征工程)\n",
        "  features = layers.stack(features, layers.fully_connected, [10,20,10]) \n",
        "  prediction,loss = tf.contrib.learn.models.logistic_regression_zero_init(features,target)#定义初始参数为0的逻辑斯蒂回归模型，从而获取预测值和损失值\n",
        "  \n",
        "  #使用contrib.layers.optimize_loss函数对损失值进行优化，根据不同需要选择不同的优化函数和学习率。\n",
        "  #train_op为训练算子，在每次训练迭代时会被用来优化模型的参数和决定模型发展的方向\n",
        "  train_op = tf.contrib.layers.optimize_loss(\n",
        "      loss,tf.contrib.framework.get_global_step(),optimizer='Adagrad',\n",
        "      learning_rate=0.1\n",
        "  )\n",
        "  \n",
        "  return {'class':tf.argmax(prediction,1),'prob':prediction},loss,train_op"
      ],
      "execution_count": 0,
      "outputs": []
    },
    {
      "metadata": {
        "id": "PsNzYDUq3Nv1",
        "colab_type": "code",
        "colab": {}
      },
      "cell_type": "code",
      "source": [
        "from sklearn import datasets\n",
        "from sklearn import model_selection"
      ],
      "execution_count": 0,
      "outputs": []
    },
    {
      "metadata": {
        "id": "yJOB1ohN5mQR",
        "colab_type": "code",
        "colab": {
          "base_uri": "https://localhost:8080/",
          "height": 1710
        },
        "outputId": "a85383ad-5464-4621-cfd5-daa0e1939f24"
      },
      "cell_type": "code",
      "source": [
        "iris = datasets.load_iris()\n",
        "x_train,x_test,y_train,y_test = model_selection.train_test_split(iris.data,\n",
        "                                                                iris.target,\n",
        "                                                                test_size=0.2,\n",
        "                                                                random_state=35)\n",
        "#把定义好的my_model直接放进learn.Estimator就可以使用Scikit-learn风格的fit和predict函数，也能够直接进行分布式模型训练\n",
        "classifier = learn.Estimator(model_fn=my_model)\n",
        "classifier.fit(x_train,y_train,steps=700)\n",
        "\n",
        "predictions = classifier.predict(x_test)"
      ],
      "execution_count": 5,
      "outputs": [
        {
          "output_type": "stream",
          "text": [
            "WARNING:tensorflow:From /usr/local/lib/python3.6/dist-packages/tensorflow/contrib/learn/python/learn/estimators/estimator.py:1165: BaseEstimator.__init__ (from tensorflow.contrib.learn.python.learn.estimators.estimator) is deprecated and will be removed in a future version.\n",
            "Instructions for updating:\n",
            "Please replace uses of any Estimator from tf.contrib.learn with an Estimator from tf.estimator.*\n",
            "WARNING:tensorflow:From /usr/local/lib/python3.6/dist-packages/tensorflow/contrib/learn/python/learn/estimators/estimator.py:427: RunConfig.__init__ (from tensorflow.contrib.learn.python.learn.estimators.run_config) is deprecated and will be removed in a future version.\n",
            "Instructions for updating:\n",
            "When switching to tf.estimator.Estimator, use tf.estimator.RunConfig instead.\n",
            "INFO:tensorflow:Using default config.\n",
            "WARNING:tensorflow:Using temporary folder as model directory: /tmp/tmpj_5i1rig\n",
            "INFO:tensorflow:Using config: {'_task_type': None, '_task_id': 0, '_cluster_spec': <tensorflow.python.training.server_lib.ClusterSpec object at 0x7ff9bd9849b0>, '_master': '', '_num_ps_replicas': 0, '_num_worker_replicas': 0, '_environment': 'local', '_is_chief': True, '_evaluation_master': '', '_tf_config': gpu_options {\n",
            "  per_process_gpu_memory_fraction: 1.0\n",
            "}\n",
            ", '_tf_random_seed': None, '_save_summary_steps': 100, '_save_checkpoints_secs': 600, '_log_step_count_steps': 100, '_session_config': None, '_save_checkpoints_steps': None, '_keep_checkpoint_max': 5, '_keep_checkpoint_every_n_hours': 10000, '_model_dir': '/tmp/tmpj_5i1rig'}\n",
            "WARNING:tensorflow:From <ipython-input-5-66391ac694fc>:7: calling BaseEstimator.fit (from tensorflow.contrib.learn.python.learn.estimators.estimator) with x is deprecated and will be removed after 2016-12-01.\n",
            "Instructions for updating:\n",
            "Estimator is decoupled from Scikit Learn interface by moving into\n",
            "separate class SKCompat. Arguments x, y and batch_size are only\n",
            "available in the SKCompat class, Estimator will only accept input_fn.\n",
            "Example conversion:\n",
            "  est = Estimator(...) -> est = SKCompat(Estimator(...))\n",
            "WARNING:tensorflow:From <ipython-input-5-66391ac694fc>:7: calling BaseEstimator.fit (from tensorflow.contrib.learn.python.learn.estimators.estimator) with y is deprecated and will be removed after 2016-12-01.\n",
            "Instructions for updating:\n",
            "Estimator is decoupled from Scikit Learn interface by moving into\n",
            "separate class SKCompat. Arguments x, y and batch_size are only\n",
            "available in the SKCompat class, Estimator will only accept input_fn.\n",
            "Example conversion:\n",
            "  est = Estimator(...) -> est = SKCompat(Estimator(...))\n",
            "WARNING:tensorflow:From /usr/local/lib/python3.6/dist-packages/tensorflow/contrib/learn/python/learn/estimators/estimator.py:494: SKCompat.__init__ (from tensorflow.contrib.learn.python.learn.estimators.estimator) is deprecated and will be removed in a future version.\n",
            "Instructions for updating:\n",
            "Please switch to the Estimator interface.\n",
            "WARNING:tensorflow:From /usr/local/lib/python3.6/dist-packages/tensorflow/contrib/learn/python/learn/estimators/estimator.py:142: setup_train_data_feeder (from tensorflow.contrib.learn.python.learn.learn_io.data_feeder) is deprecated and will be removed in a future version.\n",
            "Instructions for updating:\n",
            "Please use tensorflow/transform or tf.data.\n",
            "WARNING:tensorflow:From /usr/local/lib/python3.6/dist-packages/tensorflow/contrib/learn/python/learn/learn_io/data_feeder.py:100: extract_pandas_data (from tensorflow.contrib.learn.python.learn.learn_io.pandas_io) is deprecated and will be removed in a future version.\n",
            "Instructions for updating:\n",
            "Please access pandas data directly.\n",
            "WARNING:tensorflow:From /usr/local/lib/python3.6/dist-packages/tensorflow/contrib/learn/python/learn/learn_io/data_feeder.py:102: extract_pandas_labels (from tensorflow.contrib.learn.python.learn.learn_io.pandas_io) is deprecated and will be removed in a future version.\n",
            "Instructions for updating:\n",
            "Please access pandas data directly.\n",
            "WARNING:tensorflow:From /usr/local/lib/python3.6/dist-packages/tensorflow/contrib/learn/python/learn/learn_io/data_feeder.py:159: DataFeeder.__init__ (from tensorflow.contrib.learn.python.learn.learn_io.data_feeder) is deprecated and will be removed in a future version.\n",
            "Instructions for updating:\n",
            "Please use tensorflow/transform or tf.data.\n",
            "WARNING:tensorflow:From /usr/local/lib/python3.6/dist-packages/tensorflow/contrib/learn/python/learn/learn_io/data_feeder.py:340: check_array (from tensorflow.contrib.learn.python.learn.learn_io.data_feeder) is deprecated and will be removed in a future version.\n",
            "Instructions for updating:\n",
            "Please convert numpy dtypes explicitly.\n",
            "WARNING:tensorflow:float64 is not supported by many models, consider casting to float32.\n",
            "WARNING:tensorflow:From <ipython-input-1-b04b6428fd3f>:10: logistic_regression_zero_init (from tensorflow.contrib.learn.python.learn.models) is deprecated and will be removed in a future version.\n",
            "Instructions for updating:\n",
            "Consider using a class from tf.estimator.LinearClassifier\n",
            "WARNING:tensorflow:From /usr/local/lib/python3.6/dist-packages/tensorflow/contrib/learn/python/learn/models.py:64: logistic_regression (from tensorflow.contrib.learn.python.learn.models) is deprecated and will be removed in a future version.\n",
            "Instructions for updating:\n",
            "Consider using a class from tf.estimator.\n",
            "WARNING:tensorflow:From /usr/local/lib/python3.6/dist-packages/tensorflow/contrib/learn/python/learn/models.py:183: softmax_classifier (from tensorflow.contrib.learn.python.learn.ops.losses_ops) is deprecated and will be removed after 2016-12-01.\n",
            "Instructions for updating:\n",
            "Use `tf.losses.softmax_cross_entropy` and explicit logits computation.\n",
            "WARNING:tensorflow:From <ipython-input-1-b04b6428fd3f>:15: get_global_step (from tensorflow.contrib.framework.python.ops.variables) is deprecated and will be removed in a future version.\n",
            "Instructions for updating:\n",
            "Please switch to tf.train.get_global_step\n",
            "WARNING:tensorflow:From /usr/local/lib/python3.6/dist-packages/tensorflow/contrib/learn/python/learn/estimators/estimator.py:1222: ModelFnOps.__new__ (from tensorflow.contrib.learn.python.learn.estimators.model_fn) is deprecated and will be removed in a future version.\n",
            "Instructions for updating:\n",
            "When switching to tf.estimator.Estimator, use tf.estimator.EstimatorSpec. You can use the `estimator_spec` method to create an equivalent one.\n",
            "INFO:tensorflow:Create CheckpointSaverHook.\n",
            "INFO:tensorflow:Graph was finalized.\n",
            "INFO:tensorflow:Running local_init_op.\n",
            "INFO:tensorflow:Done running local_init_op.\n",
            "INFO:tensorflow:Saving checkpoints for 1 into /tmp/tmpj_5i1rig/model.ckpt.\n"
          ],
          "name": "stdout"
        },
        {
          "output_type": "stream",
          "text": [
            "INFO:tensorflow:loss = 1.0986123085021973, step = 0\n",
            "INFO:tensorflow:global_step/sec: 207.525\n",
            "INFO:tensorflow:loss = 0.28252872824668884, step = 100 (0.487 sec)\n",
            "INFO:tensorflow:global_step/sec: 218.021\n",
            "INFO:tensorflow:loss = 0.0776234120130539, step = 200 (0.460 sec)\n",
            "INFO:tensorflow:global_step/sec: 206.538\n",
            "INFO:tensorflow:loss = 0.07313373684883118, step = 300 (0.481 sec)\n",
            "INFO:tensorflow:global_step/sec: 209.805\n",
            "INFO:tensorflow:loss = 0.06207158416509628, step = 400 (0.480 sec)\n",
            "INFO:tensorflow:global_step/sec: 208.638\n",
            "INFO:tensorflow:loss = 0.05924055352807045, step = 500 (0.479 sec)\n",
            "INFO:tensorflow:global_step/sec: 209.573\n",
            "INFO:tensorflow:loss = 0.057882893830537796, step = 600 (0.476 sec)\n",
            "INFO:tensorflow:Saving checkpoints for 700 into /tmp/tmpj_5i1rig/model.ckpt.\n",
            "INFO:tensorflow:Loss for final step: 0.05631427839398384.\n",
            "WARNING:tensorflow:From <ipython-input-5-66391ac694fc>:9: calling BaseEstimator.predict (from tensorflow.contrib.learn.python.learn.estimators.estimator) with x is deprecated and will be removed after 2016-12-01.\n",
            "Instructions for updating:\n",
            "Estimator is decoupled from Scikit Learn interface by moving into\n",
            "separate class SKCompat. Arguments x, y and batch_size are only\n",
            "available in the SKCompat class, Estimator will only accept input_fn.\n",
            "Example conversion:\n",
            "  est = Estimator(...) -> est = SKCompat(Estimator(...))\n",
            "WARNING:tensorflow:float64 is not supported by many models, consider casting to float32.\n",
            "INFO:tensorflow:Graph was finalized.\n",
            "INFO:tensorflow:Restoring parameters from /tmp/tmpj_5i1rig/model.ckpt-700\n",
            "INFO:tensorflow:Running local_init_op.\n",
            "INFO:tensorflow:Done running local_init_op.\n"
          ],
          "name": "stdout"
        }
      ]
    },
    {
      "metadata": {
        "id": "3Fc-ybYt7mk-",
        "colab_type": "text"
      },
      "cell_type": "markdown",
      "source": [
        "## TF.Contrib\n",
        "\n",
        "TF.Contrib是TensorFlow里很重要的一个部分，很大一部分开源社区的贡献都被集中在这里，特别是一些新功能，由于都是一些刚贡献的功能，谷歌会将这些代码暂时放在这里，由谷歌内部及外部的用户一次测试，等它们的API都比较稳定的时候，会被移到TensorFlow的核心模块。\n",
        "\n",
        "这个模块里提供了机器学习需要的大部分功能，包括统计分布、机器学习层、优化函数、指标，等等。\n",
        "\n",
        "### 统计分布\n",
        "TF.contrib.distributions模块里有许多的统计分布。这些统计分布大多数都是统计研究和应用中经常用到的，也是各种统计及机器学习模型的即使，许多的概率模型和图形模型都非常依赖这些统计分布。\n",
        "\n",
        "### layer模块\n",
        "contrib.layer包含了机器学习算法所需的各种各样的成分和部件，例如卷积层、批标准化层、机器学习指标、优化函数、初始器、特征列、等。有了这些基础的建设部件，我们可以高效的建立复杂的机器学习及机器学习系统。本章将介绍这个模块里一些主要的部件，来帮助理解TensorFlow的各种可能性及灵活性。"
      ]
    },
    {
      "metadata": {
        "id": "03SWDaBfH0GS",
        "colab_type": "code",
        "colab": {}
      },
      "cell_type": "code",
      "source": [
        ""
      ],
      "execution_count": 0,
      "outputs": []
    }
  ]
}